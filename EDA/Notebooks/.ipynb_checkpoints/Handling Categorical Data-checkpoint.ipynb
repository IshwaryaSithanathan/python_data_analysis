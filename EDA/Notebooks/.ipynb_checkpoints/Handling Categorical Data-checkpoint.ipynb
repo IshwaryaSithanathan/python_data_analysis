{
 "cells": [
  {
   "cell_type": "markdown",
   "metadata": {},
   "source": [
    "## What are Categorical Variables? \n",
    "Categorical data is non-numerical data that is grouped in some way, such as hair color, or represnting binary outcomes such as yes or no. \n",
    "\n",
    "Categorical variables usually contain a finite list of values, such as hair color. While hair color is a category, the categorical variables in that category are things such as `[\"black\", \"brown\", \"red]`. \n",
    "\n",
    "As with hair color, categorical variables do not have any certain order or ranking. \n",
    "\n",
    "### Ordinal Variables\n",
    "Ordinal variables, on the other hand, do have a ranking order, such as `[\"high\", \"low\"]` or `[\"first\", \"second\", \"third\"]. "
   ]
  },
  {
   "cell_type": "code",
   "execution_count": null,
   "metadata": {},
   "outputs": [],
   "source": []
  }
 ],
 "metadata": {
  "kernelspec": {
   "display_name": "Python 3",
   "language": "python",
   "name": "python3"
  },
  "language_info": {
   "codemirror_mode": {
    "name": "ipython",
    "version": 3
   },
   "file_extension": ".py",
   "mimetype": "text/x-python",
   "name": "python",
   "nbconvert_exporter": "python",
   "pygments_lexer": "ipython3",
   "version": "3.7.3"
  }
 },
 "nbformat": 4,
 "nbformat_minor": 2
}
