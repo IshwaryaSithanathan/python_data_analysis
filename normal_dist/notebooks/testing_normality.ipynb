{
 "cells": [
  {
   "cell_type": "markdown",
   "metadata": {},
   "source": [
    "# Testing for Normality\n",
    "Parametric models operate under the assumption that your data is normally distributed. If you use a parametric test on a non-parametric dataset, you may end up with unreliable or incorrect results. \n",
    "\n",
    "We can use a combination of both visualizations and statistical tests to measure the normalcy of our dataset, and the results of our test will help us decide on the proper model to use, as well as any sort of normalization that might need to be done beforehand. \n",
    "\n",
    "Let's first generate a set of random numbers using numpy: "
   ]
  },
  {
   "cell_type": "code",
   "execution_count": 15,
   "metadata": {},
   "outputs": [
    {
     "name": "stdout",
     "output_type": "stream",
     "text": [
      "       nums\n",
      "0  1.624345\n",
      "1 -0.611756\n",
      "2 -0.528172\n",
      "3 -1.072969\n",
      "4  0.865408\n",
      "5 -2.301539\n",
      "6  1.744812\n",
      "7 -0.761207\n",
      "8  0.319039\n",
      "9 -0.249370\n",
      "mean=0.061 stdv=0.885\n"
     ]
    }
   ],
   "source": [
    "import pandas as pd\n",
    "from matplotlib import pyplot as plt\n",
    "%matplotlib inline\n",
    "# generate gaussian data\n",
    "from numpy.random import seed # set seed for reproducible results\n",
    "from numpy.random import randn # import the random number pacakge\n",
    "from numpy import mean # function to calc mean\n",
    "from numpy import std # function to calc standard deviation\n",
    "\n",
    "# seed the random number generator\n",
    "seed(1)\n",
    "# generate 100 random gaussian observations\n",
    "data = pd.DataFrame({\"nums\":randn(100)})\n",
    "print(data.head(10))\n",
    "\n",
    "# summarize mean and std\n",
    "print('mean=%.3f stdv=%.3f' % (mean(data), std(data)))"
   ]
  },
  {
   "cell_type": "code",
   "execution_count": 17,
   "metadata": {},
   "outputs": [
    {
     "data": {
      "text/plain": [
       "<matplotlib.axes._subplots.AxesSubplot at 0x11a9e7358>"
      ]
     },
     "execution_count": 17,
     "metadata": {},
     "output_type": "execute_result"
    },
    {
     "data": {
      "image/png": "[encoded data removed]",
      "text/plain": [
       "<Figure size 432x288 with 1 Axes>"
      ]
     },
     "metadata": {
      "needs_background": "light"
     },
     "output_type": "display_data"
    }
   ],
   "source": [
    "data.plot(kind='hist')"
   ]
  },
  {
   "cell_type": "code",
   "execution_count": null,
   "metadata": {},
   "outputs": [],
   "source": []
  }
 ],
 "metadata": {
  "kernelspec": {
   "display_name": "Python 3",
   "language": "python",
   "name": "python3"
  },
  "language_info": {
   "codemirror_mode": {
    "name": "ipython",
    "version": 3
   },
   "file_extension": ".py",
   "mimetype": "text/x-python",
   "name": "python",
   "nbconvert_exporter": "python",
   "pygments_lexer": "ipython3",
   "version": "3.7.3"
  }
 },
 "nbformat": 4,
 "nbformat_minor": 2
}
